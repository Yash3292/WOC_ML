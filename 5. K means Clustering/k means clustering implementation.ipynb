{
 "cells": [
  {
   "cell_type": "code",
   "execution_count": 1,
   "id": "3adf5b49-9475-4040-9c35-551df4714aaa",
   "metadata": {},
   "outputs": [],
   "source": [
    "import numpy as np\n",
    "import pandas as pd\n",
    "import matplotlib.pyplot as plt\n",
    "from k_means_clustering import clustering"
   ]
  },
  {
   "cell_type": "code",
   "execution_count": 2,
   "id": "aef6d03e-bf2d-42db-83d9-da82a5dcd55f",
   "metadata": {},
   "outputs": [],
   "source": [
    "df = pd.read_csv('unsupervised_data.csv',header = None)"
   ]
  },
  {
   "cell_type": "code",
   "execution_count": 3,
   "id": "a0ff272b-ac28-4e73-b6ac-074012fb214e",
   "metadata": {},
   "outputs": [],
   "source": [
    "X = np.array(df.iloc[1:,1:7], dtype=np.float64)"
   ]
  },
  {
   "cell_type": "code",
   "execution_count": 4,
   "id": "9b71ed0e-17de-4bde-9fc0-0a734435ca2a",
   "metadata": {},
   "outputs": [],
   "source": [
    "model = clustering()"
   ]
  },
  {
   "cell_type": "code",
   "execution_count": 9,
   "id": "cc9aabd6-176e-4ee8-98ec-c4b444ccf092",
   "metadata": {},
   "outputs": [
    {
     "name": "stdout",
     "output_type": "stream",
     "text": [
      "Iteration: 1 | cost: 11.90621796040613\n",
      "Iteration: 2 | cost: 11.513454088316257\n",
      "Iteration: 3 | cost: 11.384111780059204\n",
      "Iteration: 4 | cost: 11.325007561275159\n",
      "Iteration: 5 | cost: 11.289556516225481\n",
      "Iteration: 6 | cost: 11.265140896452756\n",
      "Iteration: 7 | cost: 11.247596332542534\n",
      "Iteration: 8 | cost: 11.234999992216055\n",
      "Iteration: 9 | cost: 11.225285864427939\n",
      "Iteration: 10 | cost: 11.216996987918705\n",
      "Iteration: 11 | cost: 11.209907774777411\n",
      "Iteration: 12 | cost: 11.202955177282846\n",
      "Iteration: 13 | cost: 11.196479600879591\n",
      "Iteration: 14 | cost: 11.19062657695189\n",
      "Iteration: 15 | cost: 11.185558012011889\n",
      "Iteration: 16 | cost: 11.180748256143897\n",
      "Iteration: 17 | cost: 11.17588714435939\n",
      "Iteration: 18 | cost: 11.17168051975758\n",
      "Iteration: 19 | cost: 11.16828654093108\n",
      "Iteration: 20 | cost: 11.165497150707209\n",
      "Iteration: 21 | cost: 11.162802258815338\n",
      "Iteration: 22 | cost: 11.160227363226374\n",
      "Iteration: 23 | cost: 11.157555037491818\n",
      "Iteration: 24 | cost: 11.155259699279085\n",
      "Iteration: 25 | cost: 11.153124391884445\n",
      "Iteration: 26 | cost: 11.151317747836886\n",
      "Iteration: 27 | cost: 11.149809381912274\n",
      "Iteration: 28 | cost: 11.148532897211828\n",
      "Iteration: 29 | cost: 11.147353756276964\n",
      "Iteration: 30 | cost: 11.146331586301688\n"
     ]
    }
   ],
   "source": [
    "cost = model.fit(X, 30, 140)"
   ]
  },
  {
   "cell_type": "code",
   "execution_count": null,
   "id": "79d01f63-1000-4ceb-afec-e903a4a3c1d7",
   "metadata": {},
   "outputs": [],
   "source": []
  }
 ],
 "metadata": {
  "kernelspec": {
   "display_name": "Python 3 (ipykernel)",
   "language": "python",
   "name": "python3"
  },
  "language_info": {
   "codemirror_mode": {
    "name": "ipython",
    "version": 3
   },
   "file_extension": ".py",
   "mimetype": "text/x-python",
   "name": "python",
   "nbconvert_exporter": "python",
   "pygments_lexer": "ipython3",
   "version": "3.13.0"
  }
 },
 "nbformat": 4,
 "nbformat_minor": 5
}
