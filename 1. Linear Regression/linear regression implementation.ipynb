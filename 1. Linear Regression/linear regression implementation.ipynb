{
 "cells": [
  {
   "cell_type": "code",
   "execution_count": 1,
   "id": "3adf5b49-9475-4040-9c35-551df4714aaa",
   "metadata": {},
   "outputs": [],
   "source": [
    "import numpy as np\n",
    "import pandas as pd\n",
    "import matplotlib.pyplot as plt\n",
    "from linear_regression import Linear_Regression"
   ]
  },
  {
   "cell_type": "code",
   "execution_count": 2,
   "id": "aef6d03e-bf2d-42db-83d9-da82a5dcd55f",
   "metadata": {},
   "outputs": [
    {
     "name": "stderr",
     "output_type": "stream",
     "text": [
      "C:\\Users\\LAPTOP WORLD\\AppData\\Local\\Temp\\ipykernel_4452\\176170169.py:1: DtypeWarning: Columns (0,1,2,3,4,5,6,7,8,9,10,11,12,13,14,15,16,17,18,19,20,21,22,23,24,25,26) have mixed types. Specify dtype option on import or set low_memory=False.\n",
      "  df = pd.read_csv('linear_regression_train.csv',header = None)\n"
     ]
    }
   ],
   "source": [
    "df = pd.read_csv('linear_regression_train.csv',header = None)"
   ]
  },
  {
   "cell_type": "code",
   "execution_count": 3,
   "id": "a0ff272b-ac28-4e73-b6ac-074012fb214e",
   "metadata": {},
   "outputs": [],
   "source": [
    "X = np.array(df.iloc[1:,1:26], dtype=np.float64)\n",
    "y = np.array(df.iloc[1:,26], dtype=np.float64)"
   ]
  },
  {
   "cell_type": "code",
   "execution_count": 4,
   "id": "9b71ed0e-17de-4bde-9fc0-0a734435ca2a",
   "metadata": {},
   "outputs": [],
   "source": [
    "model = Linear_Regression()"
   ]
  },
  {
   "cell_type": "code",
   "execution_count": 5,
   "id": "d2085df0-f506-442a-9520-0e7d6a92d4d5",
   "metadata": {},
   "outputs": [],
   "source": [
    "X_train,X_test,y_train,y_test = model.test_train_split(X, y, 0.4)"
   ]
  },
  {
   "cell_type": "code",
   "execution_count": 6,
   "id": "ba4c5210-4f7f-4db1-ba50-308fc6e9f12b",
   "metadata": {},
   "outputs": [],
   "source": [
    "model.train()"
   ]
  },
  {
   "cell_type": "code",
   "execution_count": 7,
   "id": "c3b55625-708b-4cb8-a9c2-e6df5bea88e3",
   "metadata": {},
   "outputs": [
    {
     "name": "stdout",
     "output_type": "stream",
     "text": [
      "Initial Cost: 2813139.580771913\n",
      "Final Cost: 58287.39783509456\n"
     ]
    }
   ],
   "source": [
    "model.fit(X_train, y_train)"
   ]
  },
  {
   "cell_type": "code",
   "execution_count": 8,
   "id": "9443c1e5-2c23-4086-a6b2-39ec41d91b69",
   "metadata": {},
   "outputs": [
    {
     "data": {
      "image/png": "[encoded data removed]",
      "text/plain": [
       "<Figure size 640x480 with 1 Axes>"
      ]
     },
     "metadata": {},
     "output_type": "display_data"
    }
   ],
   "source": [
    "model.plot_cost()"
   ]
  },
  {
   "cell_type": "code",
   "execution_count": 9,
   "id": "db490ce4-2fa7-4656-bddd-52bc7494c173",
   "metadata": {},
   "outputs": [
    {
     "name": "stdout",
     "output_type": "stream",
     "text": [
      "0.9750403204278366\n",
      "0.9750351367374818\n"
     ]
    }
   ],
   "source": [
    "print(model.score(X_train, y_train))\n",
    "print(model.score(X_test, y_test))"
   ]
  },
  {
   "cell_type": "code",
   "execution_count": 10,
   "id": "27ed5682-774c-4dd1-a0b5-a57464462feb",
   "metadata": {},
   "outputs": [
    {
     "name": "stdout",
     "output_type": "stream",
     "text": [
      "Train cost: 116574.79567018912\n",
      "Test cost: 115414.171212757\n"
     ]
    }
   ],
   "source": [
    "yhat = model.predict(X_train)\n",
    "J_train = model.mse(yhat, y_train)\n",
    "print(\"Train cost:\", J_train)\n",
    "yhat = model.predict(X_test)\n",
    "J_test = model.mse(yhat, y_test)\n",
    "print(\"Test cost:\", J_test)"
   ]
  },
  {
   "cell_type": "code",
   "execution_count": 11,
   "id": "74ab6a0e-1113-45ca-bd8e-9702c7e512da",
   "metadata": {},
   "outputs": [
    {
     "name": "stdout",
     "output_type": "stream",
     "text": [
      "[[ 1.28486947e+02]\n",
      " [ 5.24943238e+00]\n",
      " [ 5.21510509e+02]\n",
      " [ 7.33003557e+02]\n",
      " [-1.24457968e+00]\n",
      " [ 8.11048218e+02]\n",
      " [ 4.41136261e+02]\n",
      " [-2.08557491e-01]\n",
      " [ 6.47786045e+02]\n",
      " [ 2.22774328e+02]\n",
      " [ 9.19023660e-01]\n",
      " [ 6.56107223e-01]\n",
      " [ 7.63831170e+02]\n",
      " [ 6.59529815e+02]\n",
      " [-6.30381335e-01]\n",
      " [ 5.25754667e+02]\n",
      " [ 3.22045022e+01]\n",
      " [ 4.52380847e+02]\n",
      " [ 4.12688115e+02]\n",
      " [ 6.93383314e+02]\n",
      " [ 9.87606073e+01]\n",
      " [ 1.16133977e+00]\n",
      " [ 1.04137487e+02]\n",
      " [ 4.92413026e+02]\n",
      " [ 4.85563748e-01]]\n",
      "1245.1907635984815\n"
     ]
    }
   ],
   "source": [
    "w, b = model.get_parameter()\n",
    "print(w)\n",
    "print(b)"
   ]
  },
  {
   "cell_type": "code",
   "execution_count": null,
   "id": "bbb10d18-b490-4044-8be3-5c726e478cc1",
   "metadata": {},
   "outputs": [],
   "source": []
  }
 ],
 "metadata": {
  "kernelspec": {
   "display_name": "Python 3 (ipykernel)",
   "language": "python",
   "name": "python3"
  },
  "language_info": {
   "codemirror_mode": {
    "name": "ipython",
    "version": 3
   },
   "file_extension": ".py",
   "mimetype": "text/x-python",
   "name": "python",
   "nbconvert_exporter": "python",
   "pygments_lexer": "ipython3",
   "version": "3.13.0"
  }
 },
 "nbformat": 4,
 "nbformat_minor": 5
}
